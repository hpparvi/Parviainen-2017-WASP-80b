{
 "cells": [
  {
   "cell_type": "markdown",
   "metadata": {},
   "source": [
    "# TrES-3b transmission spectroscopy\n",
    "# *Telluric O$_2$ absorption band*\n",
    "\n",
    "*<a href=\"mailto:hannu.parviainen@physics.ox.ac.uk\">Hannu Parviainen</a>, University of Oxford*\n",
    "\n",
    "This notebook is a part in a series of notebooks working as an appendix to Parviainen et al. (2015, submitted), aiming to make the analysis presented in the paper easily reproductable. The results and the figures presented in the paper can be reproduced by following these notebooks in the numbered order.\n",
    "\n",
    "*Dependencies:* See `000_README.ipynb` for the list of required Python packages, and how to install them."
   ]
  },
  {
   "cell_type": "code",
   "execution_count": 1,
   "metadata": {
    "collapsed": false
   },
   "outputs": [
    {
     "name": "stdout",
     "output_type": "stream",
     "text": [
      "Populating the interactive namespace from numpy and matplotlib\n"
     ]
    }
   ],
   "source": [
    "%pylab inline"
   ]
  },
  {
   "cell_type": "code",
   "execution_count": 2,
   "metadata": {
    "collapsed": false
   },
   "outputs": [],
   "source": [
    "import warnings\n",
    "from astropy.time import Time\n",
    "from glob import glob\n",
    "from src.core import *\n",
    "\n",
    "sb.set_context('paper')\n",
    "sb.set_style('white')"
   ]
  },
  {
   "cell_type": "markdown",
   "metadata": {},
   "source": [
    "## Create the light curves"
   ]
  },
  {
   "cell_type": "code",
   "execution_count": 3,
   "metadata": {
    "collapsed": false
   },
   "outputs": [],
   "source": [
    "sfiles_1 = sorted(glob(join(reddir,'spectra_1.fits')))\n",
    "sfiles_2 = sorted(glob(join(reddir,'spectra_2.fits')))"
   ]
  },
  {
   "cell_type": "code",
   "execution_count": 4,
   "metadata": {
    "collapsed": false
   },
   "outputs": [],
   "source": [
    "with warnings.catch_warnings():\n",
    "    warnings.simplefilter('ignore', UserWarning)\n",
    "    spectra_c = array([pf.getdata(sf, memmap = False) for sf in sfiles_1]).astype(np.float64)\n",
    "    spectra_t = array([pf.getdata(sf, memmap = False) for sf in sfiles_2]).astype(np.float64)"
   ]
  },
  {
   "cell_type": "code",
   "execution_count": 5,
   "metadata": {
    "collapsed": true
   },
   "outputs": [],
   "source": [
    "wls = load(join('results','wl_calibration.pkl'), 'r')\n",
    "pixels = arange(2051)\n",
    "wlc = wls['ccd1'].pixel_to_wl(pixels)\n",
    "wlt = wls['ccd2'].pixel_to_wl(pixels)"
   ]
  },
  {
   "cell_type": "markdown",
   "metadata": {
    "collapsed": false
   },
   "source": [
    "wlc = load('results/wl_calibration.pkl')['ccd1']    #added \n",
    "wlt = load('results/wl_calibration.pkl')['ccd2'] \n",
    "type(wlc)"
   ]
  },
  {
   "cell_type": "code",
   "execution_count": 6,
   "metadata": {
    "collapsed": false
   },
   "outputs": [],
   "source": [
    "#wlc = load('data/wavelengths.npz')['wl1']\n",
    "#wlt = load('data/wavelengths.npz')['wl2']"
   ]
  },
  {
   "cell_type": "code",
   "execution_count": 7,
   "metadata": {
    "collapsed": false
   },
   "outputs": [
    {
     "data": {
      "text/plain": [
       "(2051,)"
      ]
     },
     "execution_count": 7,
     "metadata": {},
     "output_type": "execute_result"
    }
   ],
   "source": [
    "wlc.shape"
   ]
  },
  {
   "cell_type": "code",
   "execution_count": 8,
   "metadata": {
    "collapsed": false
   },
   "outputs": [
    {
     "data": {
      "text/plain": [
       "(651, 2051)"
      ]
     },
     "execution_count": 8,
     "metadata": {},
     "output_type": "execute_result"
    }
   ],
   "source": [
    "spectra_t = squeeze(spectra_t)\n",
    "spectra_c = squeeze(spectra_c)\n",
    "spectra_t.shape"
   ]
  },
  {
   "cell_type": "code",
   "execution_count": 9,
   "metadata": {
    "collapsed": false
   },
   "outputs": [],
   "source": [
    "bmsk = ones(spectra_t.shape[0], np.bool)\n",
    "bmsk[317:320] = 0\n",
    "bmsk[630:] = 0\n",
    "spectra_tm = spectra_t[bmsk]\n",
    "spectra_cm = spectra_c[bmsk]"
   ]
  },
  {
   "cell_type": "markdown",
   "metadata": {},
   "source": [
    "How are slices determined??"
   ]
  },
  {
   "cell_type": "code",
   "execution_count": 33,
   "metadata": {
    "collapsed": false
   },
   "outputs": [],
   "source": [
    "slice_w  = s_[1020:1110]\n",
    "slices_n = [s_[1020:1033],s_[1050:1095],s_[1096:1110]] "
   ]
  },
  {
   "cell_type": "code",
   "execution_count": 34,
   "metadata": {
    "collapsed": false
   },
   "outputs": [
    {
     "name": "stdout",
     "output_type": "stream",
     "text": [
      "(627, 2051)\n",
      "(2051,)\n",
      "(90,)\n",
      "(90,)\n"
     ]
    }
   ],
   "source": [
    "print spectra_tm.shape\n",
    "print wlc.shape\n",
    "print spectra_tm[:,slice_w].mean(0).shape\n",
    "print wlc[slice_w].shape"
   ]
  },
  {
   "cell_type": "code",
   "execution_count": 35,
   "metadata": {
    "collapsed": false
   },
   "outputs": [],
   "source": [
    "def normalise(lc, time_length = spectra_tm.shape[0]):\n",
    "    msk = ones(time_length, np.bool)\n",
    "    msk[140:450] = False         #transit time\n",
    "    return lc / median(lc[msk])"
   ]
  },
  {
   "cell_type": "code",
   "execution_count": 36,
   "metadata": {
    "collapsed": true
   },
   "outputs": [],
   "source": [
    "lct_w = normalise(spectra_tm[:,slice_w].mean(1))\n",
    "lcc_w = normalise(spectra_cm[:,slice_w].mean(1))\n",
    "\n",
    "lct_n = [normalise(spectra_tm[:,sl].mean(1)) for sl in slices_n]\n",
    "lcc_n = [normalise(spectra_cm[:,sl].mean(1)) for sl in slices_n]\n",
    "\n",
    "lcr_w = lct_w / lcc_w\n",
    "lcr_n = [t/c for t,c in zip(lct_n,lcc_n)]"
   ]
  },
  {
   "cell_type": "code",
   "execution_count": 37,
   "metadata": {
    "collapsed": false
   },
   "outputs": [],
   "source": [
    "cents = [s.start+0.5*(s.stop-s.start) for s in slices_n]"
   ]
  },
  {
   "cell_type": "code",
   "execution_count": 38,
   "metadata": {
    "collapsed": false
   },
   "outputs": [],
   "source": [
    "mjd = array(pd.read_hdf('results/light_curves.h5','aux').mjd)"
   ]
  },
  {
   "cell_type": "code",
   "execution_count": 39,
   "metadata": {
    "collapsed": false
   },
   "outputs": [
    {
     "data": {
      "image/png": "[encoded data removed]",
      "text/plain": [
       "<matplotlib.figure.Figure at 0x114f41a50>"
      ]
     },
     "metadata": {},
     "output_type": "display_data"
    }
   ],
   "source": [
    "fig = figure(figsize=(AAPGW,0.85*AAOCW))\n",
    "ax_spc = fig.add_axes([0.08,0.51,0.50,0.35])\n",
    "ax_std = fig.add_axes([0.08,0.15,0.50,0.35])\n",
    "ax_img = fig.add_axes([0.60,0.15,0.32,0.80])\n",
    "ax_pix = ax_spc.twiny()\n",
    "\n",
    "[ax_pix.axvspan(sl.start,sl.stop, alpha=0.2) for sl in slices_n]\n",
    "\n",
    "ax_pix.text(cents[0], 0.42, 'N$_1$', ha='center')\n",
    "ax_pix.text(cents[1], 0.42, 'N$_2$', ha='center')\n",
    "ax_pix.text(cents[2], 0.42, 'N$_3$', ha='center')\n",
    "\n",
    "ax_spc.plot(wlc[slice_w], spectra_tm[:,slice_w].mean(0)/2, 'k', drawstyle='steps-mid')\n",
    "ax_std.plot(wlc[slice_w], normalise(spectra_tm[:,slice_w]/spectra_cm[:,slice_w]).std(0), 'k',\n",
    "         drawstyle='steps-mid')\n",
    "\n",
    "t = mjd[bmsk]\n",
    "[ax_img.plot(t, lc+0.02*i, 'k') for i,lc in enumerate(lcr_n)]\n",
    "ax_img.plot(t, mean(lcr_n,0)+0.08, 'k')\n",
    "ax_img.plot(t, lcr_w+0.10, 'k')\n",
    "[ax_img.text(t[2], 0.988+0.02*i , 'N$_'+str(i+1)+'$', size=8) for i in range(3)]\n",
    "ax_img.text(t[2], 1.066, 'W$_b$', size=8)\n",
    "ax_img.text(t[2], 1.088, 'W$_a$', size=8)\n",
    "\n",
    "[ax.axvline(766.5, c=cp[0]) for ax in [ax_spc,ax_std]]\n",
    "[ax.axvline(769.9, c=cp[0]) for ax in [ax_spc,ax_std]]\n",
    "\n",
    "ax_pix.grid(False)\n",
    "ax_img.yaxis.tick_right()\n",
    "ax_img.yaxis.set_label_position('right')\n",
    "setp(ax_pix, xlim=(slice_w.start,slice_w.stop), xlabel='Pixel')\n",
    "setp(ax_spc, xlim=wlc[slice_w][[0,-1]], ylim=(0.2,1.0), ylabel='Normalised flux')\n",
    "setp(ax_spc.get_xticklabels(), visible=False)\n",
    "setp(ax_std, xlim=wlc[slice_w][[0,-1]], ylim=(0.0,0.22), yticks=[0,0.1,0.2],\n",
    "     ylabel='Light curve std', xlabel='Wavelength [nm]')\n",
    "setp(ax_img, ylabel='Normalised flux', xlabel='MJD', xlim=t[[0,-1]], ylim=(0.951,1.12))\n",
    "fig.savefig('plots/potassium_detail.pdf')"
   ]
  },
  {
   "cell_type": "markdown",
   "metadata": {},
   "source": [
    "---\n",
    "<center> &copy; 2015 <a href=\"mailto:hannu.parviainen@physics.ox.ac.uk\">Hannu Parviainen</a></center>"
   ]
  }
 ],
 "metadata": {
  "kernelspec": {
   "display_name": "Python 2",
   "language": "python",
   "name": "python2"
  },
  "language_info": {
   "codemirror_mode": {
    "name": "ipython",
    "version": 2
   },
   "file_extension": ".py",
   "mimetype": "text/x-python",
   "name": "python",
   "nbconvert_exporter": "python",
   "pygments_lexer": "ipython2",
   "version": "2.7.6"
  }
 },
 "nbformat": 4,
 "nbformat_minor": 0
}
