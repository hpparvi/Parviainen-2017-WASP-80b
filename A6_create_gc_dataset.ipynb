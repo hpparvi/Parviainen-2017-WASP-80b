{
 "cells": [
  {
   "cell_type": "markdown",
   "metadata": {},
   "source": [
    "# Create the GC dataset\n",
    "\n",
    "Collect the data reduced by G. Chen into two Pandas DataFrames, and add the auxiliary data taken from the file headers. The light curves are found from `data/gtc_gc` as a set of csv files for each night and passband."
   ]
  },
  {
   "cell_type": "code",
   "execution_count": 1,
   "metadata": {
    "collapsed": false
   },
   "outputs": [
    {
     "name": "stdout",
     "output_type": "stream",
     "text": [
      "Populating the interactive namespace from numpy and matplotlib\n"
     ]
    }
   ],
   "source": [
    "%pylab inline"
   ]
  },
  {
   "cell_type": "code",
   "execution_count": 2,
   "metadata": {
    "collapsed": false
   },
   "outputs": [],
   "source": [
    "from src.core import *\n",
    "dfas = [pd.read_hdf('data/aux.h5','night1'),\n",
    "        pd.read_hdf('data/aux.h5','night2')]"
   ]
  },
  {
   "cell_type": "code",
   "execution_count": 3,
   "metadata": {
    "collapsed": false
   },
   "outputs": [],
   "source": [
    "pb_keys = 'nb k na pr'.split()\n",
    "files_per_night = [dict(\n",
    "    nb  = sorted(glob('data/gtc_gc/n{:d}nb/*.dat'.format(i))),\n",
    "    k   = sorted(glob('data/gtc_gc/n{:d}k/*.dat'.format(i))),\n",
    "    na  = sorted(glob('data/gtc_gc/n{:d}na/*.dat'.format(i))),\n",
    "    pra = sorted(glob('data/gtc_gc/n{:d}c50a/*.dat'.format(i))),\n",
    "    prb = sorted(glob('data/gtc_gc/n{:d}c50b/*.dat'.format(i))))\n",
    "    for i in range(1,3)]"
   ]
  },
  {
   "cell_type": "code",
   "execution_count": 4,
   "metadata": {
    "collapsed": false,
    "scrolled": true
   },
   "outputs": [],
   "source": [
    "for i,fpn in enumerate(files_per_night):\n",
    "    fpn['pr'] = list(concatenate([[fa,fb] for fa,fb in zip(fpn['pra'], fpn['prb'])]))\n",
    "    del fpn['pra'], fpn['prb']"
   ]
  },
  {
   "cell_type": "code",
   "execution_count": 5,
   "metadata": {
    "collapsed": false
   },
   "outputs": [],
   "source": [
    "data = [[[loadtxt(f) for f in files[pb]] for pb in pb_keys] for files in files_per_night]"
   ]
  },
  {
   "cell_type": "code",
   "execution_count": 6,
   "metadata": {
    "collapsed": false
   },
   "outputs": [],
   "source": [
    "dfs = [pd.DataFrame(d[0][0][:,[0,5,6,8,9,10]], \n",
    "                    columns='bjd x y fwhm airmass rotang'.split()) \n",
    "       for d in data]"
   ]
  },
  {
   "cell_type": "code",
   "execution_count": 7,
   "metadata": {
    "collapsed": false
   },
   "outputs": [],
   "source": [
    "for df,dfa,d in zip(dfs,dfas,data):\n",
    "    for pb,pbd in zip('nb Na K pr'.split(), d):\n",
    "        for i,d in enumerate(pbd):\n",
    "            if i != 12 or pb in ['Na', 'K', 'pr']:\n",
    "                df['target_{:s}{:02d}'.format(pb,i+1)] = d[:,1]\n",
    "                df['comparison_{:s}{:02d}'.format(pb,i+1)] = d[:,3]\n",
    "                df['relative_{:s}{:02d}'.format(pb,i+1)] = d[:,1] / d[:,3]"
   ]
  },
  {
   "cell_type": "code",
   "execution_count": 8,
   "metadata": {
    "collapsed": true
   },
   "outputs": [],
   "source": [
    "dfs[0].index = dfas[0].index\n",
    "dfs[1].index = dfas[1].index[1:]\n",
    "\n",
    "dfs = [pd.merge(dfn, dfa, left_index=True, right_index=True, suffixes=('','_aux'))\n",
    "       for dfn,dfa in zip(dfs,dfas)]"
   ]
  },
  {
   "cell_type": "code",
   "execution_count": 9,
   "metadata": {
    "collapsed": false
   },
   "outputs": [],
   "source": [
    "cols = [c for c in dfs[0].columns if 'relative_pr' in c]"
   ]
  },
  {
   "cell_type": "code",
   "execution_count": 10,
   "metadata": {
    "collapsed": true
   },
   "outputs": [],
   "source": [
    "dfs[0].to_hdf(join(DRESULT,'gtc_light_curves_gc.h5'), 'night1')\n",
    "dfs[1].to_hdf(join(DRESULT,'gtc_light_curves_gc.h5'), 'night2')"
   ]
  },
  {
   "cell_type": "markdown",
   "metadata": {},
   "source": [
    "---\n",
    "\n",
    "<center> &copy; 2017 Hannu Parviainen</center>"
   ]
  }
 ],
 "metadata": {
  "anaconda-cloud": {},
  "kernelspec": {
   "display_name": "Python [conda root]",
   "language": "python",
   "name": "conda-root-py"
  },
  "language_info": {
   "codemirror_mode": {
    "name": "ipython",
    "version": 3
   },
   "file_extension": ".py",
   "mimetype": "text/x-python",
   "name": "python",
   "nbconvert_exporter": "python",
   "pygments_lexer": "ipython3",
   "version": "3.5.2"
  }
 },
 "nbformat": 4,
 "nbformat_minor": 1
}
