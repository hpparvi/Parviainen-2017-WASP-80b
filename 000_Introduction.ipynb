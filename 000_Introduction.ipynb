{
 "cells": [
  {
   "cell_type": "markdown",
   "metadata": {},
   "source": [
    "# Ground-based transmission spectroscopy of WASP-80b\n",
    "\n",
    "Hannu Parviainen, University of Oxford\n",
    "\n",
    "These notebooks cover the broadband and transmission spectroscopy analysis of WASP-80b using three sets of previously published light curves (27 broadband LCs) and two nights of GTC-observed transmission spectroscopy. We start with a broadband analysis of the previously observed datasets to constrain the orbital parameters, and then continue with broad- and narrow band transmission spectroscopy.\n",
    "\n",
    "## 1 External broadband data\n",
    "\n",
    "We combine the GTC-observed data with three external multicolour datasets by Triaud et al. (2013), Mancini et al. (2014), and Fukui et al. (2014).\n",
    "\n",
    "The results from external data modelling are stored in `results/external.h5` with results structured as\n",
    "\n",
    "    run_name/de\n",
    "    run_name/mc\n",
    "    run_name/fc\n",
    "    \n",
    "where `de` stores the final differential evolution, `mc` the population of the last *emcee* step, and `fc` the flattened *emcee* chain.\n",
    "\n",
    "### 1.1 White noise runs \n",
    "\n",
    "We carry out four runs using only Triaud et al. and Mancini et al. data, with run names\n",
    "\n",
    "- `ckwn`, `ckwn_ldtk` \n",
    "- `vkwn`, `vkwn_ldtk`\n",
    "\n",
    "where `wn` stands for white nosie, `ck` for constant radius ratio, `vk` for wavelength-dependent radius ratio, and `ldtk` has been added to the name if the run uses LDTk to constrain the limb darkening.\n",
    "\n",
    "### 1.2 Gaussian process hyperparameter optimisation\n",
    "\n",
    "The white noise runs are used to optimise the GP hyperparameters for all the external datasets.\n",
    "\n",
    "### 1.3 Red noise runs \n",
    "\n",
    "We carry out further four runs assuming red noise modelled using Gaussian processes (GPs), with run names \n",
    "\n",
    "- `ckrn`, `ckrn_ldtk` \n",
    "- `vkrn`, `vkrn_ldtk`\n",
    "\n",
    "where `rn` stands for red noise. "
   ]
  },
  {
   "cell_type": "markdown",
   "metadata": {
    "collapsed": true
   },
   "source": [
    "## 2 GTC data\n",
    "\n",
    "We have two nights (July 16 and August 25) of observations. The target star (WASP-80) is placed on CCD 2 and the comparison star on CCD 1. The transmission spectroscopy analysis is carried out for two versions of the light curves, one produced by a pipeline by H. Parviainen, and another by a pipeline by G. Chen (HP and GC datasets, respectively).\n",
    "\n",
    "The light curves reduced by the HP pipeline are stored in\n",
    "\n",
    " - `results/gtc_light_curves_hp.h5`\n",
    " \n",
    "and the light curves reduced by the GC pipeline are stored in \n",
    "\n",
    " - `results/gtc_light_curves_gc.h5`\n",
    " \n",
    "The `h5` files contain two groups, `night1` and `night2`, storing the photometry and the auxiliary data taken from the fits headers as Pandas dataframes."
   ]
  },
  {
   "cell_type": "markdown",
   "metadata": {},
   "source": [
    "---"
   ]
  }
 ],
 "metadata": {
  "anaconda-cloud": {},
  "kernelspec": {
   "display_name": "Python [conda root]",
   "language": "python",
   "name": "conda-root-py"
  },
  "language_info": {
   "codemirror_mode": {
    "name": "ipython",
    "version": 3
   },
   "file_extension": ".py",
   "mimetype": "text/x-python",
   "name": "python",
   "nbconvert_exporter": "python",
   "pygments_lexer": "ipython3",
   "version": "3.5.2"
  }
 },
 "nbformat": 4,
 "nbformat_minor": 0
}
