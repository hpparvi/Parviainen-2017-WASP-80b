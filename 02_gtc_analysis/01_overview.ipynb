{
 "cells": [
  {
   "cell_type": "markdown",
   "metadata": {},
   "source": [
    "# GTC transmission spectroscopy analysis\n",
    "## 1. Overview\n",
    "\n",
    "**Hannu Parviainen, Instituto de Astrofísica de Canarias<br>**\n",
    "**Last updated: 22.06.2017**\n",
    "\n",
    "### Running the MCMC\n",
    "\n",
    "The notebooks in this directory are used mainly for the visualisation of the results obtained with the `$W80ROOT/bin/fit` script.\n",
    "\n",
    "The `fit` script can be ran either as\n",
    "\n",
    "    fit --passband PB --nights NN --approach APP --n-threads 1 --n-walkers 800 --de-n-iterations 2500 --de-update-interval 100 --de-save-interval 100 --mc-n-iterations 15000 --mc-update-interval 200 --mc-save-interval 1000 --mc-thin 200 --mc-n-runs 5 --do-mc --use-ldtk\n",
    "\n",
    "or (using bash)\n",
    "\n",
    "    for i in {1..5}; fit --passband PB --nights NN --approach APP --n-threads 1 --n-walkers 800 --de-n-iterations 2500 --de-update-interval 100 --de-save-interval 100 --mc-n-iterations 15000 --mc-update-interval 200 --mc-save-interval 1000 --mc-thin 200 --do-mc --use-ldtk; done\n",
    "\n",
    "where `PB` is the passband in `[nb, K, Na]`; `NN` chooses the nights to use from `[1, 2, 12]`; and `APP` chooces the modeling approach from `[abs, dw, dwr]`. The first approach should work fine in theory, but there appears to be a memory leak in the code somewhere, which will eventually lead to a crash. The second approach is better until I find and fix the leak.\n",
    "   \n",
    "### Modelling approaches\n",
    "\n",
    "The code currently implements three modelling approaches\n",
    "\n",
    " - **`ABS`:** Direct model with GP systematics\n",
    " - **`DW`:** Divide-by-white model with parametric systematics\n",
    " - **`DWR`:** Divide-by-white model with GP systematics\n",
    "   \n",
    "These approaches are implemented as classes in modules `lpfsd`, `lpfsr`, `lpfsrr` for single nights, and `lpfmd`, `lpfmr`, and `lpfmrr` for multiple nights. The `LPFSD` is a subclass of `LPF`, and `LPFSR` and `LPFSRR` are subclasses of `LPFSD`.\n",
    "   \n",
    "---\n",
    "\n",
    "<center> &copy; 2017 Hannu Parviainen</center>"
   ]
  }
 ],
 "metadata": {
  "kernelspec": {
   "display_name": "Python [conda root]",
   "language": "python",
   "name": "conda-root-py"
  },
  "language_info": {
   "codemirror_mode": {
    "name": "ipython",
    "version": 3
   },
   "file_extension": ".py",
   "mimetype": "text/x-python",
   "name": "python",
   "nbconvert_exporter": "python",
   "pygments_lexer": "ipython3",
   "version": "3.5.3"
  }
 },
 "nbformat": 4,
 "nbformat_minor": 1
}
