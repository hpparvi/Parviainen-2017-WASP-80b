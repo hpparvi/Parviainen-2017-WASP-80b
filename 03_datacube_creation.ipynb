{
 "metadata": {
  "name": "",
  "signature": "sha256:049ec3dd5de41d97b4f482e28be314ecccfb666bdadc261d0a6cd1d567d0b14d"
 },
 "nbformat": 3,
 "nbformat_minor": 0,
 "worksheets": [
  {
   "cells": [
    {
     "cell_type": "heading",
     "level": 1,
     "metadata": {},
     "source": [
      "Create datacubes"
     ]
    },
    {
     "cell_type": "markdown",
     "metadata": {},
     "source": [
      "The light curve creation etc. will be much nicer with datacubes, so let's create ones for our objects and skys. These will be rather large files, and can be deleted when not needed any more.\n",
      "\n",
      "**Note:** This is a rather slow and stupid way to do this. We could do all this with a single access per file."
     ]
    },
    {
     "cell_type": "code",
     "collapsed": false,
     "input": [
      "from core import *"
     ],
     "language": "python",
     "metadata": {},
     "outputs": [],
     "prompt_number": 1
    },
    {
     "cell_type": "code",
     "collapsed": false,
     "input": [
      "def create_datacube(ext, window, ctype, filename):\n",
      "    cube = array([pf.getdata(obj, ext=ext)[:,window] for obj in l_obj])\n",
      "    hdr  = pf.getheader(l_obj[0])\n",
      "    hdu  = pf.PrimaryHDU(data=cube)\n",
      "    hdu.header.update('window','{}:{}'.format(window.start,window.stop))\n",
      "    hdu.header.update('type','object')\n",
      "    hdu.header.update('ccd',1,'CCD id')\n",
      "    hdu.header.append(hdr.cards['rspeed'])\n",
      "    hdu.header.append(hdr.cards['gain'])\n",
      "    hdu.header.append(hdr.cards['instrume'])\n",
      "    hdu.header.append(hdr.cards['detector'])\n",
      "    hdu.writeto(join(reddir,filename), clobber=True)"
     ],
     "language": "python",
     "metadata": {},
     "outputs": [],
     "prompt_number": 2
    },
    {
     "cell_type": "code",
     "collapsed": false,
     "input": [
      "create_datacube(1, s_[245:350], 'object', 'cube_o1.fits')\n",
      "create_datacube(1, s_[370:450], 'sky',    'cube_s1.fits')"
     ],
     "language": "python",
     "metadata": {},
     "outputs": [],
     "prompt_number": 3
    },
    {
     "cell_type": "code",
     "collapsed": false,
     "input": [
      "create_datacube(2, s_[840:895], 'object', 'cube_o2.fits')\n",
      "create_datacube(2, s_[770:810], 'sky',    'cube_s2.fits')"
     ],
     "language": "python",
     "metadata": {},
     "outputs": [],
     "prompt_number": 4
    }
   ],
   "metadata": {}
  }
 ]
}